{
 "cells": [
  {
   "cell_type": "markdown",
   "metadata": {},
   "source": [
    "# Задание к лекции \"Функции\".\n",
    "Для зачета необходимо правильно выполнить 4 заданий из 6.  \n",
    "Для зачета с отличием – все 6."
   ]
  },
  {
   "cell_type": "markdown",
   "metadata": {},
   "source": [
    "## Задание 1"
   ]
  },
  {
   "cell_type": "markdown",
   "metadata": {},
   "source": [
    "Дан список вида:"
   ]
  },
  {
   "cell_type": "code",
   "execution_count": 1,
   "metadata": {},
   "outputs": [],
   "source": [
    "data = [\n",
    "    [13, 25, 23, 34],\n",
    "    [45, 32, 44, 47],\n",
    "    [12, 33, 23, 95],\n",
    "    [13, 53, 34, 35]\n",
    "]"
   ]
  },
  {
   "cell_type": "markdown",
   "metadata": {},
   "source": [
    "Напишите функцию, которая возвращает сумму элементов на диагонали. Т. е. 13+32+23+35.  \n",
    "Список может быть любой длины, но всегда является \"квадратным\" (количество элементов во вложенных списках равно их количеству)."
   ]
  },
  {
   "cell_type": "code",
   "execution_count": 3,
   "metadata": {},
   "outputs": [
    {
     "data": {
      "text/plain": [
       "103"
      ]
     },
     "execution_count": 3,
     "metadata": {},
     "output_type": "execute_result"
    }
   ],
   "source": [
    "#лямбда список, текущий номер строки/столбца : значение диагонали + рекурсия от следующей строки\n",
    "diag_sum = lambda dataset, rownum = 0 : dataset[rownum][rownum] + diag_sum(dataset, rownum+1) if rownum<len(dataset) else 0\n",
    "\n",
    "diag_sum(data)"
   ]
  },
  {
   "cell_type": "markdown",
   "metadata": {},
   "source": [
    "## Задание 2"
   ]
  },
  {
   "cell_type": "markdown",
   "metadata": {},
   "source": [
    "Напишите функцию, возвращающую сумму первых n чисел Фибоначчи (для этого вам может понадобится ознакомиться с рекурсией)."
   ]
  },
  {
   "cell_type": "code",
   "execution_count": 4,
   "metadata": {},
   "outputs": [
    {
     "data": {
      "text/plain": [
       "20"
      ]
     },
     "execution_count": 4,
     "metadata": {},
     "output_type": "execute_result"
    }
   ],
   "source": [
    "#лямбда N, первое число ряда =0 (текущее число ряда в рекурсии), второе число ряда =1 (следующее в рекурсии), текущий порядковый номер числа ряда в рекурсии\n",
    "#возвращает текущее число ряда (выход из рекурсии) когда итератор уравнен с заданным номером, иначе возвращает сумму текущего числа ряда и рекурсии от следующего числа ряда\n",
    "fibo_sum = lambda n, num1=0, num2=1, i=1: num1 if i==n else num1 + fibo_sum(n, num2, num1+num2, i+1)\n",
    "\n",
    "fibo_sum(7)"
   ]
  },
  {
   "cell_type": "markdown",
   "metadata": {},
   "source": [
    "## Задание 3"
   ]
  },
  {
   "cell_type": "code",
   "execution_count": 5,
   "metadata": {},
   "outputs": [],
   "source": [
    "cook_book = {\n",
    "  'салат': [\n",
    "     {'ingridient_name': 'сыр', 'quantity': 50, 'measure': 'гр'},\n",
    "     {'ingridient_name': 'томаты', 'quantity': 20, 'measure': 'гр'},\n",
    "     {'ingridient_name': 'огурцы', 'quantity': 20, 'measure': 'гр'},\n",
    "     {'ingridient_name': 'маслины', 'quantity': 10, 'measure': 'гр'},\n",
    "     {'ingridient_name': 'оливковое масло', 'quantity': 20, 'measure': 'мл'},\n",
    "     {'ingridient_name': 'салат', 'quantity': 10, 'measure': 'гр'},\n",
    "     {'ingridient_name': 'перец', 'quantity': 20, 'measure': 'гр'}\n",
    "    ],\n",
    "  'пицца': [\n",
    "     {'ingridient_name': 'сыр', 'quantity': 20, 'measure': 'гр'},\n",
    "     {'ingridient_name': 'колбаса', 'quantity': 30, 'measure': 'гр'},\n",
    "     {'ingridient_name': 'бекон', 'quantity': 30, 'measure': 'гр'},\n",
    "     {'ingridient_name': 'оливки', 'quantity': 10, 'measure': 'гр'},\n",
    "     {'ingridient_name': 'томаты', 'quantity': 20, 'measure': 'гр'},\n",
    "     {'ingridient_name': 'тесто', 'quantity': 100, 'measure': 'гр'},   \n",
    "    ],\n",
    "  'лимонад': [\n",
    "     {'ingridient_name': 'лимон', 'quantity': 1, 'measure': 'шт'},\n",
    "     {'ingridient_name': 'вода', 'quantity': 200, 'measure': 'мл'},\n",
    "     {'ingridient_name': 'сахар', 'quantity': 10, 'measure': 'гр'},\n",
    "     {'ingridient_name': 'лайм', 'quantity': 20, 'measure': 'гр'},    \n",
    "    ]\n",
    "}"
   ]
  },
  {
   "cell_type": "markdown",
   "metadata": {},
   "source": [
    "Напишите программу (она может состоять из нескольких функций), которая будет запрашивать у пользователя количество гостей и список блюд, которые будут подаваться каждому гостю. В результате программа должна выдавать список покупок, состоящий из ингредиентов, которые нужно купить в магазине (если ингредиенты повторяются, то их нужно записать одной строкой, а не отдельно).\n",
    "\n",
    "Пример:\n",
    "\n",
    "вызов\\_главной\\_функций()\n",
    "\n",
    "Введите количество гостей: 3  \n",
    "Введите блюда через пробел: пицца пицца лимонад\n",
    "\n",
    "Список покупок:  \n",
    "сыр 120 гр  \n",
    "колбаса 180 гр  \n",
    "бекон 180 гр  \n",
    "оливки 60 гр  \n",
    "томаты 120 гр  \n",
    "тесто 600 гр  \n",
    "лимон 3 шт  \n",
    "вода 600 мл  \n",
    "сахар 30 гр  \n",
    "лайм 60 гр  "
   ]
  },
  {
   "cell_type": "code",
   "execution_count": 18,
   "metadata": {},
   "outputs": [
    {
     "name": "stdout",
     "output_type": "stream",
     "text": [
      "Введите количество гостей: 3\n",
      "Введите блюда через пробел: пицца пицца лимонад\n",
      "сыр 120 гр\n",
      "колбаса 180 гр\n",
      "бекон 180 гр\n",
      "оливки 60 гр\n",
      "томаты 120 гр\n",
      "тесто 600 гр\n",
      "лимон 3 гр\n",
      "вода 600 гр\n",
      "сахар 30 гр\n",
      "лайм 60 гр\n"
     ]
    }
   ],
   "source": [
    "guest_num = 0\n",
    "def waiter():\n",
    "    global guest_num\n",
    "    guest_num = int(input('Введите количество гостей: '))\n",
    "    order = input('Введите блюда через пробел: ').split(' ')\n",
    "    return order\n",
    "    \n",
    "# shop_list = [lambda ]\n",
    "# я чувствую, что здесь есть простор для лямбда-творчества, но фантазии не хватило :(\n",
    "\n",
    "def get_shop_list(order):\n",
    "    shop_list = {}\n",
    "    for dish in order: #перебираем заказ\n",
    "        for ingr_rec in cook_book[dish]: #перебираем ингридиенты в кукбуке по соответствию позиции заказа\n",
    "            shop_list.setdefault(ingr_rec['ingridient_name'],{'quantity': 0, 'measure': 'гр'}) #инициализируем запись в итоговом списке\n",
    "            shop_list[ingr_rec['ingridient_name']]['quantity'] += ingr_rec['quantity']*guest_num #ведем подсчет\n",
    "    return shop_list\n",
    "\n",
    "\n",
    "for rec in get_shop_list(waiter()).items():\n",
    "    print(f'{rec[0]} {rec[1][\"quantity\"]} {rec[1][\"measure\"]}') \n"
   ]
  },
  {
   "cell_type": "markdown",
   "metadata": {},
   "source": [
    "## Задание 4"
   ]
  },
  {
   "cell_type": "markdown",
   "metadata": {},
   "source": [
    "Вы работаете секретарем и вам постоянно приходят различные документы. Вы должны быть очень внимательны, чтобы не потерять ни один документ. Каталог документов хранится в следующем виде:"
   ]
  },
  {
   "cell_type": "code",
   "execution_count": 19,
   "metadata": {},
   "outputs": [],
   "source": [
    "documents = [\n",
    "    {'type': 'passport', 'number': '2207 876234', 'name': 'Василий Гупкин'},\n",
    "    {'type': 'invoice', 'number': '11-2', 'name': 'Геннадий Покемонов'},\n",
    "    {'type': 'insurance', 'number': '10006', 'name': 'Аристарх Павлов'}\n",
    "]"
   ]
  },
  {
   "cell_type": "markdown",
   "metadata": {},
   "source": [
    "Перечень полок, на которых находятся документы хранится в следующем виде:"
   ]
  },
  {
   "cell_type": "code",
   "execution_count": 40,
   "metadata": {},
   "outputs": [],
   "source": [
    "directories = {\n",
    "    '1': ['2207 876234', '11-2', '5455 028765'],\n",
    "    '2': ['10006', '5400 028765', '5455 002299'],\n",
    "    '3': []\n",
    "}"
   ]
  },
  {
   "cell_type": "markdown",
   "metadata": {},
   "source": [
    "Необходимо реализовать пользовательские команды (внимание! это не название функций, которые должны быть выразительными, а команды, которые вводит пользователь, чтобы получить необходимый результат):\n",
    "  \n",
    "- p – people – команда, которая спросит номер документа и выведет имя человека, которому он принадлежит;  \n",
    "- s – shelf – команда, которая спросит номер документа и выведет номер полки, на которой он находится  \n",
    "Правильно обработайте ситуацию, когда пользователь будет вводить несуществующий документ."
   ]
  },
  {
   "cell_type": "code",
   "execution_count": 26,
   "metadata": {},
   "outputs": [],
   "source": [
    "def get_doc_num():\n",
    "    return input('Введите номер документа: ')\n",
    "\n",
    "def c_people():\n",
    "    docnum = get_doc_num()\n",
    "    srchres = None\n",
    "    for doc in documents:\n",
    "        if docnum == doc['number']:\n",
    "            srchres = doc['name']\n",
    "            break\n",
    "            \n",
    "    if srchres == None:\n",
    "        print('Документ не найден')\n",
    "    else:\n",
    "        print(f'Документ принадлежит {srchres}')\n",
    "              \n",
    "def c_shelf():\n",
    "    docnum = get_doc_num()\n",
    "    srchres = None\n",
    "    for shelf in directories.items():\n",
    "        if shelf[1].count(docnum)>0: #\n",
    "            srchres = shelf[0]\n",
    "            break\n",
    "            \n",
    "    if srchres == None:\n",
    "        print('Документ не найден')\n",
    "    else:\n",
    "        print(f'Документ найден на полке {srchres}')"
   ]
  },
  {
   "cell_type": "code",
   "execution_count": 31,
   "metadata": {},
   "outputs": [
    {
     "name": "stdout",
     "output_type": "stream",
     "text": [
      "Введите командуp\n",
      "Введите номер документа: 10006\n",
      "Документ принадлежит Аристарх Павлов\n"
     ]
    }
   ],
   "source": [
    "def u_com():\n",
    "    u_command = input('Введите команду: ')\n",
    "    if u_command == 'p':\n",
    "        c_people()\n",
    "    elif u_command == 's':\n",
    "        c_shelf()\n",
    "    else:\n",
    "        print('Не понятно')\n",
    "    \n",
    "u_com()"
   ]
  },
  {
   "cell_type": "markdown",
   "metadata": {},
   "source": [
    "## Задание 5"
   ]
  },
  {
   "cell_type": "markdown",
   "metadata": {},
   "source": [
    "К условию из задания 5 реализуйте следующие команды:\n",
    "  \n",
    "- l – list – команда, которая выведет список всех документов в формате   \n",
    "**passport \"2207 876234\" \"Василий Гупкин\"**  \n",
    "- as – add shelf – команда, которая спросит номер новой полки и добавит ее в перечень"
   ]
  },
  {
   "cell_type": "code",
   "execution_count": 39,
   "metadata": {},
   "outputs": [
    {
     "name": "stdout",
     "output_type": "stream",
     "text": [
      "Введите номер новой полки5\n",
      "{'1': ['2207 876234', '11-2', '5455 028765'], '2': ['10006', '5400 028765', '5455 002299'], '3': [], '5': {}}\n"
     ]
    }
   ],
   "source": [
    "def c_list():\n",
    "    for doc in documents:\n",
    "        print(f'{doc[\"type\"]} \"{doc[\"number\"]}\" \"{doc[\"name\"]}\"')\n",
    "              \n",
    "def c_addshelf():\n",
    "    sn = input('Введите номер новой полки')\n",
    "    if directories.get(sn) != None:\n",
    "        print('Полка с таким номером уже существует')\n",
    "    else:\n",
    "        directories[sn] = []\n",
    "              "
   ]
  },
  {
   "cell_type": "code",
   "execution_count": null,
   "metadata": {},
   "outputs": [],
   "source": [
    "def u_com():\n",
    "    u_command = input('Введите команду: ')\n",
    "    if u_command == 'p':\n",
    "        c_people()\n",
    "    elif u_command == 's':\n",
    "        c_shelf()\n",
    "    elif u_command == 'l':\n",
    "        c_list()\n",
    "    elif u_command == 'as':\n",
    "        c_addshelf()\n",
    "    else:\n",
    "        print('Не понятно')\n",
    "    \n",
    "u_com()"
   ]
  },
  {
   "cell_type": "markdown",
   "metadata": {},
   "source": [
    "## Задание 6"
   ]
  },
  {
   "cell_type": "markdown",
   "metadata": {},
   "source": [
    "К условию из задания 5 реализуйте следующие команды:  \n",
    "  \n",
    "- d – delete – команда, которая спросит номер документа и удалит его из каталога и из перечня полок. Предусмотрите сценарий, когда пользователь вводит несуществующий документ;  \n",
    "- m – move – команда, которая спросит номер документа и целевую полку и переместит его с текущей полки на целевую. Корректно обработайте кейсы, когда пользователь пытается переместить несуществующий документ или переместить документ на несуществующую полку;  \n",
    "- a – add – команда, которая добавит новый документ в каталог и в перечень полок, спросив его номер, тип, имя владельца и номер полки, на котором он будет храниться."
   ]
  },
  {
   "cell_type": "code",
   "execution_count": null,
   "metadata": {},
   "outputs": [],
   "source": []
  }
 ],
 "metadata": {
  "kernelspec": {
   "display_name": "Python 3",
   "language": "python",
   "name": "python3"
  },
  "language_info": {
   "codemirror_mode": {
    "name": "ipython",
    "version": 3
   },
   "file_extension": ".py",
   "mimetype": "text/x-python",
   "name": "python",
   "nbconvert_exporter": "python",
   "pygments_lexer": "ipython3",
   "version": "3.7.4"
  }
 },
 "nbformat": 4,
 "nbformat_minor": 2
}
