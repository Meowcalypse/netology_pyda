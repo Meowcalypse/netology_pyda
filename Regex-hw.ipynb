{
 "cells": [
  {
   "cell_type": "markdown",
   "metadata": {},
   "source": [
    "# Домашнее задание к лекции \"Регулярные выражения\"\n",
    "Для зачета необходимо выполнить 4 задания.  \n",
    "Для зачета с отличием – все."
   ]
  },
  {
   "cell_type": "code",
   "execution_count": 1,
   "metadata": {},
   "outputs": [],
   "source": [
    "import re"
   ]
  },
  {
   "cell_type": "markdown",
   "metadata": {},
   "source": [
    "## Задание 1"
   ]
  },
  {
   "cell_type": "markdown",
   "metadata": {},
   "source": [
    "Напишите функцию, которая принимает на вход строку и проверяет является ли она валидным транспортным номером. Если да, то функция должна возвращать отдельно номер и регион."
   ]
  },
  {
   "cell_type": "code",
   "execution_count": 14,
   "metadata": {},
   "outputs": [
    {
     "data": {
      "text/plain": [
       "('а123см', '456')"
      ]
     },
     "execution_count": 14,
     "metadata": {},
     "output_type": "execute_result"
    }
   ],
   "source": [
    "def iscarnumvalid(carnum):\n",
    "    #validcarnum = 'а123см45'\n",
    "    valid_chars = '[АВЕКМНОРСТУХ]'\n",
    "    mask = ''+valid_chars+'\\d\\d\\d'+valid_chars+'{2}\\d\\d[\\d]?' #символ + три цифры + два символа + две цифры + может быть цифра\n",
    "    if re.fullmatch(mask, carnum, re.IGNORECASE):\n",
    "        return tuple(filter(None, re.split('(.{6})+',carnum, 0, re.IGNORECASE))) #сложная маска не нужна, мы уже проверили валидность\n",
    "    else:\n",
    "        return None\n",
    "        \n",
    "iscarnumvalid('а123см456')"
   ]
  },
  {
   "cell_type": "markdown",
   "metadata": {},
   "source": [
    "## Задание 2"
   ]
  },
  {
   "cell_type": "markdown",
   "metadata": {},
   "source": [
    "Напишите функцию, которая проверяет e-mail адрес на валидность по стандарту RFC822: http://www.w3.org/Protocols/rfc822/. Для этого постарайтесь написать (в крайнем случае найти) самый полный шаблон для проверки e-mail адресов через регулярное выражение. Разберитесь и напишите примеры, какие ваш шаблон может не охватить."
   ]
  },
  {
   "cell_type": "code",
   "execution_count": 20,
   "metadata": {},
   "outputs": [
    {
     "name": "stdout",
     "output_type": "stream",
     "text": [
      "+\n"
     ]
    }
   ],
   "source": [
    "\n",
    "def isemailvalid(mailadr):\n",
    "    mask = r'^(?=.{0,64}\\@)((\\\"?)[\\w\\-\\_\\+]+\\2)\\@(?=.{0,255}$)([\\w]+([\\.(?!\\.)]\\w+)*$)'\n",
    "# такая страшная маска вышла:\n",
    "#     ^ чтобы валидность была с начала строки\n",
    "#     (?=.{0,64}\\@) - подобная группа была подсмотрена в гугле на ограничение длины строки и адаптирована под поиск с@баки\n",
    "#     (\\\"?) по стандарту вроде как можно начать строку с кавычек, если в строке есть странные символы (которые нынче банятся общественными почтовиками)\n",
    "#          эта же группа через \\2 в конце ищет то же что вернет ее первое упоминание\n",
    "#     [\\w\\-\\_\\+] символы, какие хочется, можно расширить список\n",
    "#     \\@ собака\n",
    "#     (?=.{0,255}$) ограничение имени домена в 255 символов до конца строки\n",
    "#     ([\\w]+([\\.(?!\\.)]\\w+)*$) это далось сложно, в начале домена должен быть символ, а дальше сколько угодно групп вида точка+символы, при этом лукэхед на точку после точки\n",
    "#          а чтобы это все не развалилось в конце символ поиска строки\n",
    "# было сложно\n",
    "    print('+' if re.fullmatch(mask, mailadr) else '-')\n",
    "#     какие-нибудь имэйлы наверное не сможет, стандарт оч странно писан, и явно не имэйлы его целью были\n",
    "\n",
    "mailadr = '\"hop-hey\"@la.la.ley'\n",
    "isemailvalid(mailadr)"
   ]
  },
  {
   "cell_type": "markdown",
   "metadata": {},
   "source": [
    "## Задание 3\n",
    "При помощи регулярных выражений напишите функцию, которая будет возвращать акроним переданного в нее текста."
   ]
  },
  {
   "cell_type": "code",
   "execution_count": 21,
   "metadata": {},
   "outputs": [
    {
     "name": "stdout",
     "output_type": "stream",
     "text": [
      "['П', 'п', 'р', 'в', 'н', 'ф']\n"
     ]
    },
    {
     "data": {
      "text/plain": [
       "'ППРВНФ'"
      ]
     },
     "execution_count": 21,
     "metadata": {},
     "output_type": "execute_result"
    }
   ],
   "source": [
    "def acro(word):\n",
    "    mask = r'^\\w|(?<=[\\W])\\w'\n",
    "    mask = r'(?<=\\b)\\w'  #про \\b в лекции не сказано, а полезно\n",
    "    print(re.findall(mask,word))\n",
    "    return ''.join(re.findall(mask,word)).upper()\n",
    "\n",
    "acro('При помощи регулярных выражений напишите функцию')"
   ]
  },
  {
   "cell_type": "markdown",
   "metadata": {},
   "source": [
    "## Задание 4\n",
    "Напишите функцию, которая будет удалять все последовательные повторы слов из заданной строки."
   ]
  },
  {
   "cell_type": "code",
   "execution_count": 22,
   "metadata": {},
   "outputs": [
    {
     "data": {
      "text/plain": [
       "'  удалять все   последовательные повторы но не   пробелы'"
      ]
     },
     "execution_count": 22,
     "metadata": {},
     "output_type": "execute_result"
    }
   ],
   "source": [
    "def removerepeats(string):\n",
    "    mask = r'\\b([a-zA-Zа-яА-Я]+)(?=\\W+\\1)'\n",
    "    #\\b([a-zA-Z]+) начало слова и группа букв\n",
    "    #(?=\\W+\\1) лукэхэд незначащие символы + группа №1 букв\n",
    "    return re.sub(mask, '', string)\n",
    "    \n",
    "    \n",
    "string ='удалять удалять удалять все последовательные последовательные последовательные повторы но не пробелы пробелы пробелы'\n",
    "removerepeats(string)"
   ]
  },
  {
   "cell_type": "markdown",
   "metadata": {},
   "source": [
    "## Задание 5\n",
    "Напишите функцию, которая будет проверять номер сотового телефона на валидность, если он валиден, то переводить его в формат:   \n",
    "+7(xxx)-xxx-xx-xx  \n",
    "Постарайтесь предусмотреть как можно больше адекватных форматов изначального ввода номера.\n",
    "Примеры правильных и неправильных форматов:\n",
    "- +1 555 555-55-55;\n",
    "- 5555555555;\n",
    "- 555555555;\n",
    "- 8(555)555-55-55;\n",
    "- +7 555 555 55 55;\n",
    "- 7(555) 555-55-55;\n",
    "- +7 555+555+55+55."
   ]
  },
  {
   "cell_type": "code",
   "execution_count": 23,
   "metadata": {},
   "outputs": [
    {
     "name": "stdout",
     "output_type": "stream",
     "text": [
      "+1 555 555-55-55  non valid\n",
      "5555555555  valid: +7(555)-555-55-55\n",
      "555555555  non valid\n",
      "8(555)555-55-55  valid: +7(555)-555-55-55\n",
      "7(555) 555-55-55  valid: +7(555)-555-55-55\n",
      "+7 555+555+55+55  valid: +7(555)-555-55-55\n",
      "(123)456 78-90  valid: +7(123)-456-78-90\n"
     ]
    }
   ],
   "source": [
    "def iscellphonenumvalid(cellnum):\n",
    "    mask = r'^([\\+]?[78]?)?[\\s\\(]?\\d{3}[\\s\\)]?([\\-\\+\\s]?\\d){7}$'\n",
    "    #^ начало строки\n",
    "    #([\\+]?[78]?)? возможна группа +7/+8/7/8\n",
    "    #?[\\s\\(]?\\d{3}[\\s\\)]? три цифры оператора, которые могут быть отделены пробелами или скобками\n",
    "    #([\\-\\+\\s]?\\d){7} семь групп по одной цифре отделенной разделителем\n",
    "    #$ конец строки\n",
    "    return True if re.fullmatch(mask, cellnum) else False\n",
    "\n",
    "def convertcellnum(cellnum):\n",
    "    num = re.sub(r'[\\s\\-\\+\\(\\)]','',cellnum)\n",
    "    firstdpos = 0 if len(num)==10 else 1\n",
    "    converted = '+7('+num[firstdpos:firstdpos+3]+')-'+num[-7:-4]+'-'+num[-4:-2]+'-'+num[-2:]\n",
    "    return converted\n",
    "\n",
    "phnlst = ['+1 555 555-55-55','5555555555','555555555','8(555)555-55-55','7(555) 555-55-55','+7 555+555+55+55','(123)456 78-90']\n",
    "for phnn in phnlst:\n",
    "    print(f'{phnn}  {\"valid: \"+convertcellnum(phnn) if iscellphonenumvalid(phnn) else \"non valid\"}')\n",
    "\n",
    "# mask =r'^([\\+]?[78]?)?[\\s\\(]?(\\d{3})[\\s\\)]?(([\\-\\s]?\\d){7})$'          \n",
    "# re.split(mask, phnlst[1])"
   ]
  }
 ],
 "metadata": {
  "kernelspec": {
   "display_name": "Python 3",
   "language": "python",
   "name": "python3"
  },
  "language_info": {
   "codemirror_mode": {
    "name": "ipython",
    "version": 3
   },
   "file_extension": ".py",
   "mimetype": "text/x-python",
   "name": "python",
   "nbconvert_exporter": "python",
   "pygments_lexer": "ipython3",
   "version": "3.7.4"
  }
 },
 "nbformat": 4,
 "nbformat_minor": 2
}
