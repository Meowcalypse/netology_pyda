{
 "cells": [
  {
   "cell_type": "markdown",
   "metadata": {},
   "source": [
    "Домашнее задание 2\n",
    "\n",
    "Задание 1\n",
    "\n",
    "Дан список с визитами по городам и странам. Напишите код, который возвращает отфильтрованный список geo_logs, содержащий только визиты из России. Считайте, что список geo_logs легко помещается в оперативной памяти.\n"
   ]
  },
  {
   "cell_type": "code",
   "execution_count": 4,
   "metadata": {},
   "outputs": [
    {
     "name": "stdout",
     "output_type": "stream",
     "text": [
      "['visit1', ['Москва', 'Россия'], 'visit3', ['Владимир', 'Россия'], 'visit7', ['Тула', 'Россия'], 'visit8', ['Тула', 'Россия'], 'visit9', ['Курск', 'Россия'], 'visit10', ['Архангельск', 'Россия']]\n"
     ]
    }
   ],
   "source": [
    "import copy\n",
    "\n",
    "geo_logs = [\n",
    "['visit1', ['Москва', 'Россия']],\n",
    "['visit2', ['Дели', 'Индия']],\n",
    "['visit3', ['Владимир', 'Россия']],\n",
    "['visit4', ['Лиссабон', 'Португалия']],\n",
    "['visit5', ['Париж', 'Франция']],\n",
    "['visit6', ['Лиссабон', 'Португалия']],\n",
    "['visit7', ['Тула', 'Россия']],\n",
    "['visit8', ['Тула', 'Россия']],\n",
    "['visit9', ['Курск', 'Россия']],\n",
    "['visit10', ['Архангельск', 'Россия']],\n",
    "]\n",
    "\n",
    "scname = 'Россия'\n",
    "filtered = [] #сюда сохраняем результат\n",
    "for log_element in geo_logs:\n",
    "    if log_element[1][1] == scname:\n",
    "        filtered += copy.copy(log_element)\n",
    "        \n",
    "print(filtered)\n",
    "\n"
   ]
  },
  {
   "cell_type": "markdown",
   "metadata": {},
   "source": [
    "Задание2"
   ]
  },
  {
   "cell_type": "markdown",
   "metadata": {},
   "source": [
    "Выведите на экран все уникальные гео-ID из списка координат ids. Т. е. список вида [213, 15, 54, 119, 98, 35]"
   ]
  },
  {
   "cell_type": "code",
   "execution_count": 6,
   "metadata": {},
   "outputs": [
    {
     "name": "stdout",
     "output_type": "stream",
     "text": [
      "[213, 15, 54, 119, 98, 35]\n"
     ]
    }
   ],
   "source": [
    "ids = [['user1', [213, 213, 213, 15, 213]], ['user2', [54, 54, 119, 119, 119]], ['user3', [213, 98, 98, 35]]]\n",
    "\n",
    "unique_ids = [] #сюда сохраняем уникальные ИД\n",
    "\n",
    "for user_ids in ids: #записи принадлежащие юзерам\n",
    "    for user_id in user_ids[1]: #списки ИД юзеров\n",
    "        if user_id not in unique_ids:\n",
    "            unique_ids.append(user_id)\n",
    "            \n",
    "print(unique_ids)"
   ]
  },
  {
   "cell_type": "markdown",
   "metadata": {},
   "source": [
    "Задание3\n",
    "Список поисковых запросов. Получить распределение количества слов в них. Т. е. поисковых запросов из одного слова 5%, из двух - 7%, из трех - 3% итд."
   ]
  },
  {
   "cell_type": "code",
   "execution_count": 22,
   "metadata": {},
   "outputs": [
    {
     "name": "stdout",
     "output_type": "stream",
     "text": [
      "[[2, 3, 0.375, '37.50%'], [3, 4, 0.5, '50.00%'], [7, 1, 0.125, '12.50%']]\n"
     ]
    }
   ],
   "source": [
    "queries = [\n",
    "'смотреть сериалы онлайн',\n",
    "'новости спорта',\n",
    "'афиша кино',\n",
    "'курс доллара',\n",
    "'сериалы этим летом',\n",
    "'курс по питону',\n",
    "'сериалы про спорт',\n",
    "'Получить распределение количества слов в них 3',\n",
    "]\n",
    "\n",
    "queries_count = len(queries) #всего запросов\n",
    "queries_length_list = [0]*100 #список в котором индекс элемента равен количеству слов в запросе, значение списка по индексу - количество запросов\n",
    "cnt = 0\n",
    "while cnt< queries_count: #цикл со счетчиком\n",
    "    queries_length_list[len(queries[cnt].split(' '))]+=1 #разбиваем строку в список, получаем количество слов, используем количество как индекс элемента списка и увеличиваем соответствующий элемент в спец-списке\n",
    "    cnt +=1\n",
    "\n",
    "result = [] #список статистики\n",
    "for wcount,qcount in enumerate(queries_length_list):\n",
    "    if qcount>0:\n",
    "        result.append([wcount, qcount, qcount/queries_count, f'{qcount/queries_count:.2%}']) #пишем статистику\n",
    "        \n",
    "print(result)"
   ]
  },
  {
   "cell_type": "markdown",
   "metadata": {},
   "source": [
    "Задание 4 (бонусное)\n",
    "Дан поток логов по количеству просмотренных страниц для каждого пользователя. Список отсортирован по ID пользователя. Вам необходимо написать алгоритм, который считает среднее значение просмотров на пользователя. Т. е. надо посчитать отношение суммы всех просмотров к количеству уникальных пользователей. Учтите, что весь список stream не помещается в оперативную память, т. е. его нужно обрабатывать поэлементно в цикле.\n"
   ]
  },
  {
   "cell_type": "code",
   "execution_count": 24,
   "metadata": {},
   "outputs": [
    {
     "name": "stdout",
     "output_type": "stream",
     "text": [
      "23.25 загрузок страниц на пользователя в среднем\n"
     ]
    }
   ],
   "source": [
    "stream = [\n",
    "'2018-01-01,user1,3',\n",
    "'2018-01-07,user1,4',\n",
    "'2018-03-29,user1,1',\n",
    "'2018-04-04,user1,13',\n",
    "'2018-01-05,user2,7',\n",
    "'2018-06-14,user3,4',\n",
    "'2018-07-02,user3,10',\n",
    "'2018-03-21,user4,19',\n",
    "'2018-03-22,user4,4',\n",
    "'2018-04-22,user4,8',\n",
    "'2018-05-03,user4,9',\n",
    "'2018-05-11,user4,11',\n",
    "]\n",
    "\n",
    "users = [] #уникальные имена юзеров\n",
    "overall_uploads = 0 #всего загрузок\n",
    "\n",
    "cnt = 0\n",
    "while cnt < len(stream):\n",
    "    log_record = stream[cnt].split(',') #парсим строку лога\n",
    "    if log_record[1] not in users:\n",
    "        users.append(log_record[1]) #добавляем нового юзера\n",
    "    overall_uploads += int(log_record[2]) #считаем загрузки\n",
    "    cnt +=1\n",
    "    \n",
    "print(f'{overall_uploads/len(users):.2F} загрузок страниц на пользователя в среднем')"
   ]
  }
 ],
 "metadata": {
  "kernelspec": {
   "display_name": "Python 3",
   "language": "python",
   "name": "python3"
  },
  "language_info": {
   "codemirror_mode": {
    "name": "ipython",
    "version": 3
   },
   "file_extension": ".py",
   "mimetype": "text/x-python",
   "name": "python",
   "nbconvert_exporter": "python",
   "pygments_lexer": "ipython3",
   "version": "3.7.4"
  }
 },
 "nbformat": 4,
 "nbformat_minor": 2
}
