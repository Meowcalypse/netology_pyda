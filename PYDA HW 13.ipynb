{
 "cells": [
  {
   "cell_type": "markdown",
   "metadata": {},
   "source": [
    "# Задание 1\n",
    "\n",
    "    Используйте файл с оценками фильмов ml-latest-small/ratings.csv. Посчитайте среднее время жизни пользователей, которые выставили более 100 оценок. Под временем жизни понимается разница между максимальным и минимальным значением столбца timestamp для данного значения userId.\n"
   ]
  },
  {
   "cell_type": "code",
   "execution_count": 1,
   "metadata": {},
   "outputs": [],
   "source": [
    "import pandas as pd"
   ]
  },
  {
   "cell_type": "code",
   "execution_count": 79,
   "metadata": {},
   "outputs": [
    {
     "name": "stdout",
     "output_type": "stream",
     "text": [
      "среднее время жизни 32098 c\n"
     ]
    }
   ],
   "source": [
    "ratings = pd.read_csv('ml-latest-small/ratings.csv', usecols=[0,3], dtype=int)  # читаем ИД и таймстампы (сразу в int)\n",
    "ratings.head()\n",
    "\n",
    "users = ratings.groupby('userId').count()  # группируем, фильтруем, переименовываем колонку\n",
    "users = users.loc[users.timestamp > 100 ].reset_index()\n",
    "users.rename(columns={'timestamp': 'visits'}, inplace=True)\n",
    "\n",
    "def lifetime(row):  # функция для получения времени жизни в секундах - в датасете есть разница около часа\n",
    "    return (row['ld']-row['fd']).seconds\n",
    "\n",
    "res = pd.merge(users, ratings, on='userId', how='inner')  # мержим первую колонку - минимальных таймстампов\n",
    "res = res.groupby('userId').min()\n",
    "res.rename(columns={'timestamp':'first'}, inplace=True)  # переименовали\n",
    "res = pd.merge(res, ratings, on='userId', how='inner')  # вторая колонка - максимальные\n",
    "res = res.groupby('userId').max()\n",
    "res.rename(columns={'timestamp':'last'}, inplace=True)  # переименовали\n",
    "res['fd'] = pd.to_datetime(res['first'], unit='s')  # преобразовали в дэйттайм\n",
    "res['ld'] = pd.to_datetime(res['last'], unit='s')\n",
    "#res['diff'] = res['ld']-res['fd']\n",
    "res['lifetime'] = res.apply(lifetime, axis=1)  # применили функцию\n",
    "avrg = res['lifetime'].mean()  # среднее по колонке\n",
    "print(f'среднее время жизни {avrg:.0f} секунд')\n"
   ]
  },
  {
   "cell_type": "markdown",
   "metadata": {},
   "source": [
    "# Задание 2\n",
    "\n",
    "    Дана статистика услуг перевозок клиентов компании по типам (см. файл с кодом занятия). Необходимо сформировать две таблицы:\n",
    "\n",
    "    таблицу с тремя типами выручки для каждого client_id без указания адреса клиента\n",
    "    аналогичную таблицу по типам выручки с указанием адреса клиента\n",
    "\n",
    "Обратите внимание, что в процессе объединения таблиц данные не должны теряться."
   ]
  },
  {
   "cell_type": "code",
   "execution_count": 80,
   "metadata": {},
   "outputs": [],
   "source": [
    "rzd = pd.DataFrame(\n",
    "    {\n",
    "        'client_id': [111, 112, 113, 114, 115],\n",
    "        'rzd_revenue': [1093, 2810, 10283, 5774, 981]\n",
    "    }\n",
    ")\n",
    "\n",
    "auto = pd.DataFrame(\n",
    "    {\n",
    "        'client_id': [113, 114, 115, 116, 117],\n",
    "        'auto_revenue': [57483, 83, 912, 4834, 98]\n",
    "    }\n",
    ")\n",
    "\n",
    "air = pd.DataFrame(\n",
    "    {\n",
    "        'client_id': [115, 116, 117, 118],\n",
    "        'air_revenue': [81, 4, 13, 173]\n",
    "    }\n",
    ")\n",
    "\n",
    "client_base = pd.DataFrame(\n",
    "    {\n",
    "        'client_id': [111, 112, 113, 114, 115, 116, 117, 118],\n",
    "        'address': ['Комсомольская 4', 'Энтузиастов 8а', 'Левобережная 1а', 'Мира 14', 'ЗЖБИиДК 1', \n",
    "                    'Строителей 18', 'Панфиловская 33', 'Мастеркова 4']\n",
    "    }\n",
    ")"
   ]
  },
  {
   "cell_type": "code",
   "execution_count": 95,
   "metadata": {},
   "outputs": [
    {
     "name": "stdout",
     "output_type": "stream",
     "text": [
      "   client_id  rzd_revenue  auto_revenue  air_revenue\n",
      "0        111       1093.0           0.0          0.0\n",
      "1        112       2810.0           0.0          0.0\n",
      "2        113      10283.0       57483.0          0.0\n",
      "3        114       5774.0          83.0          0.0\n",
      "4        115        981.0         912.0         81.0\n",
      "5        116          0.0        4834.0          4.0\n",
      "6        117          0.0          98.0         13.0\n",
      "7        118          0.0           0.0        173.0\n",
      "   client_id          address  rzd_revenue  auto_revenue  air_revenue\n",
      "0        111  Комсомольская 4       1093.0           0.0          0.0\n",
      "1        112   Энтузиастов 8а       2810.0           0.0          0.0\n",
      "2        113  Левобережная 1а      10283.0       57483.0          0.0\n",
      "3        114          Мира 14       5774.0          83.0          0.0\n",
      "4        115        ЗЖБИиДК 1        981.0         912.0         81.0\n",
      "5        116    Строителей 18          0.0        4834.0          4.0\n",
      "6        117  Панфиловская 33          0.0          98.0         13.0\n",
      "7        118     Мастеркова 4          0.0           0.0        173.0\n"
     ]
    }
   ],
   "source": [
    "# собираем полную таблицу, из нее выделим облегченную без адресов\n",
    "full_table = pd.merge(client_base, rzd, on='client_id', how='left')\n",
    "full_table = pd.merge(full_table, auto, on='client_id', how='left')\n",
    "full_table = pd.merge(full_table, air, on='client_id', how='left')\n",
    "full_table.loc[pd.isnull(full_table.rzd_revenue), 'rzd_revenue'] = 0\n",
    "full_table.loc[pd.isnull(full_table.auto_revenue), 'auto_revenue'] = 0\n",
    "full_table.loc[pd.isnull(full_table.air_revenue), 'air_revenue'] = 0\n",
    "\n",
    "light_table = full_table.loc[:, ['client_id', 'rzd_revenue', 'auto_revenue', 'air_revenue']]\n",
    "print(light_table.head(10))\n",
    "print(full_table.head(10))"
   ]
  },
  {
   "cell_type": "markdown",
   "metadata": {},
   "source": [
    "# Задание 3\n",
    "\n",
    "    В задаче сквозной аналитики вам предоставили данные по местоположению пользователей. Т. е. для каждого user_id известна последовательность координат (широта/долгота), когда они требовались приложению для полноценной работы. Как бы вы добавили эти сведения в таблицу визитов и покупок? Для составления ответа можно использовать вопросы:\n",
    "\n",
    "    У каждого пользователя известен набор координат. А для связывания с визитом или фактом покупки скорее всего потребуется одно-два числа. Как их получить?\n",
    "    Наборы координат одного и того же пользователя могут быть значительно удалены друг от друга. Как это отразится на вопросе расчетах пункта 1?\n",
    "    Какие дополнительные признаки можно получить из координат? Ведь это просто числа, которые сами по себе мало что дают.\n"
   ]
  },
  {
   "cell_type": "code",
   "execution_count": null,
   "metadata": {},
   "outputs": [],
   "source": [
    "Архитектура: прежде всего ничего не сказано о формате последовательности координат - очевидно, формат должен также содержать timestamp\n",
    "    также потребуется пара функций сравнения координат и временных интервалов\n",
    "1. очевидно, речь идет о UserID и timestamp. если под \"одно-два числа\" подразумеваются координаты - ближайшие по времени события\n",
    "2. никак, если изначально выбирать правильную архитектуру и алгоритмы. удаленность координат может означать одновременное использование учетки на нескольких устройствах - но если использовать ID сессии - проблема решается\n",
    "3. если речь о тотальной слежке - то аналитики очень много - ареал обитания, распорядок дня, характер передвижения и транспорт - очень легко (без сверхестественной аналитики) разбиваются категории работающих/неработающих, автомобилистов, туристов, офисных работников и т.д.\n",
    "\n",
    "Ответ на вопрос: Как бы вы добавили эти сведения в таблицу визитов и покупок?\n",
    "    в таблицу визитов - никак, мы и так знаем где нам нанесли визит и где совершили физическую покупку.\n",
    "    при необходимости геопозиционирования при онлайн событиях - рекомендуется держать отдельную табличку с этими событиями и их координатами, т.к. как правило стоимость процессорного времени на джоины с логами куда дороже стоимости хранения таблички размером в гигабайт (а это очень-очень много покупок)"
   ]
  }
 ],
 "metadata": {
  "kernelspec": {
   "display_name": "Python 3",
   "language": "python",
   "name": "python3"
  },
  "language_info": {
   "codemirror_mode": {
    "name": "ipython",
    "version": 3
   },
   "file_extension": ".py",
   "mimetype": "text/x-python",
   "name": "python",
   "nbconvert_exporter": "python",
   "pygments_lexer": "ipython3",
   "version": "3.7.4"
  }
 },
 "nbformat": 4,
 "nbformat_minor": 2
}
