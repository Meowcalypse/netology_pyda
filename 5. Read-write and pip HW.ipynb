{
 "cells": [
  {
   "cell_type": "markdown",
   "metadata": {},
   "source": [
    "# Домашнее задание\n",
    "1. Переведите содержимое файла purchase_log.txt в словарь purchases вида:\n",
    "```python\n",
    "{'1840e0b9d4': 'Продукты', ...}\n",
    "```\n",
    "\n",
    "2. Для каждого user_id в файле visit_log.csv добавьте третий столбец с категорией покупки (если покупка была).\n",
    "\n",
    "3. Запишите в файл funnel.csv визиты из файла visit_log.csv, в которых были покупки с указанием категории.\n",
    "\n",
    "Учтите условия на данные:\n",
    "- содержимое purchase_log.txt помещается в оперативную память компьютера\n",
    "- содержимое visit_log.csv - нет; используйте только построчную обработку этого файла"
   ]
  },
  {
   "cell_type": "code",
   "execution_count": 1,
   "metadata": {},
   "outputs": [],
   "source": [
    "import json\n",
    "\n",
    "purchases = {}\n",
    "f = open('purchase_log.txt', 'r')\n",
    "for i, ln in enumerate(f):\n",
    "    if i>0:\n",
    "        tmpln = json.loads(ln.strip())\n",
    "        purchases[tmpln['user_id']]=tmpln['category']\n",
    "\n",
    "with open('visit_log.csv', 'r') as visits, open('funnel.csv', 'w') as funnel:\n",
    "    funnel.write('user_id,source,category\\n')\n",
    "    for i, ln in enumerate(visits):\n",
    "        if i>0:\n",
    "            tmpln = ln.strip().split(',')\n",
    "            category = purchases.get(tmpln[0])\n",
    "            if category!=None:\n",
    "                tmpln.append(category)\n",
    "                funnel.write(','.join(tmpln)+'\\n')\n",
    "            \n",
    "    funnel.close()"
   ]
  },
  {
   "cell_type": "code",
   "execution_count": 2,
   "metadata": {},
   "outputs": [
    {
     "name": "stdout",
     "output_type": "stream",
     "text": [
      "user_id,source,category\n",
      "1840e0b9d4,other,РџСЂРѕРґСѓРєС‚С‹\n",
      "4e4f90fcfb,context,Р­Р»РµРєС‚СЂРѕРЅРёРєР°\n",
      "afea8d72fc,other,Р­Р»РµРєС‚СЂРѕРЅРёРєР°\n",
      "2824221f38,email,РџСЂРѕРґСѓРєС‚С‹\n"
     ]
    }
   ],
   "source": [
    "f = open('funnel.csv', 'r')\n",
    "for i in range(5):\n",
    "    print(f.readline().strip())#.split(','))"
   ]
  },
  {
   "cell_type": "code",
   "execution_count": 4,
   "metadata": {},
   "outputs": [
    {
     "name": "stdout",
     "output_type": "stream",
     "text": [
      "user_id,source\n",
      "6450655ae8,other\n",
      "b4ea53e670,other\n",
      "0e37347152,other\n",
      "96064ae9e0,other\n"
     ]
    }
   ],
   "source": [
    "f = open('visit_log.csv', 'r')\n",
    "for i in range(5):\n",
    "    print(f.readline().strip())#.split(','))"
   ]
  },
  {
   "cell_type": "code",
   "execution_count": 5,
   "metadata": {},
   "outputs": [
    {
     "name": "stdout",
     "output_type": "stream",
     "text": [
      "{\"user_id\": \"user_id\", \"category\": \"category\"}\n",
      "{\"user_id\": \"1840e0b9d4\", \"category\": \"РџСЂРѕРґСѓРєС‚С‹\"}\n",
      "{\"user_id\": \"4e4f90fcfb\", \"category\": \"Р­Р»РµРєС‚СЂРѕРЅРёРєР°\"}\n",
      "{\"user_id\": \"afea8d72fc\", \"category\": \"Р­Р»РµРєС‚СЂРѕРЅРёРєР°\"}\n",
      "{\"user_id\": \"373a6055fe\", \"category\": \"Р‘С‹С‚РѕРІР°СЏ С‚РµС…РЅРёРєР°\"}\n"
     ]
    }
   ],
   "source": [
    "f = open('purchase_log.txt', 'r')\n",
    "for i in range(5):\n",
    "    print(f.readline().strip())"
   ]
  }
 ],
 "metadata": {
  "kernelspec": {
   "display_name": "Python 3",
   "language": "python",
   "name": "python3"
  },
  "language_info": {
   "codemirror_mode": {
    "name": "ipython",
    "version": 3
   },
   "file_extension": ".py",
   "mimetype": "text/x-python",
   "name": "python",
   "nbconvert_exporter": "python",
   "pygments_lexer": "ipython3",
   "version": "3.7.4"
  }
 },
 "nbformat": 4,
 "nbformat_minor": 2
}
